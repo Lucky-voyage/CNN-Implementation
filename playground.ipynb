{
 "cells": [
  {
   "metadata": {},
   "cell_type": "markdown",
   "source": "# Digit Recognition",
   "id": "117a3b081fbdfbb6"
  },
  {
   "metadata": {
    "ExecuteTime": {
     "end_time": "2024-05-11T04:48:38.848889Z",
     "start_time": "2024-05-11T04:48:38.840332Z"
    }
   },
   "cell_type": "code",
   "source": [
    "import torch\n",
    "import csv\n",
    "from tqdm import tqdm\n",
    "from utils.get_checkpoint import get_checkpoint\n",
    "from utils.model import Model\n",
    "from utils.data_loader import DataLoader\n",
    "from utils.evaluate import Evaluate\n",
    "\n",
    "import yaml\n",
    "\n",
    "with open(\"config.yml\", \"r\") as f:\n",
    "    data = yaml.safe_load(f)\n",
    "    \n",
    "TRAIN_DATA_DIR = data[\"TRAIN_DATA_DIR\"]\n",
    "TEST_DATA_DIR = data[\"TEST_DATA_DIR\"]\n",
    "LOAD_DIR = data[\"LOAD_DIR\"]\n",
    "RESULT_DIR = data[\"RESULT_DIR\"]\n",
    "SAVE_DIR = data[\"SAVE_DIR\"]"
   ],
   "id": "5d8215d3451fcaf1",
   "outputs": [],
   "execution_count": 3
  },
  {
   "metadata": {},
   "cell_type": "markdown",
   "source": [
    "### Parameters\n",
    "· params:<br>\n",
    "\n",
    "| Param    | Type   | Function                |\n",
    "|----------|--------|-------------------------|\n",
    "| train    | bool   | 设置为`True`时，模型开始训练；反之推理。 | \n",
    "| pre_trained| bool | 设置为`True`时，加载模型         |\n",
    "| save_model | bool | 设置为`True`时，模型参数保存 |\n",
    "| save     | bool   | 设置为`True`时，保存输出         | \n",
    "| data_dir | str    | 需要使用的数据集路径              | \n",
    "| load_dir | str    | 模型加载的路径|\n",
    "| save_model_dir | str | 模型保存的路径|\n",
    "| save_dir | str    | 输出保存路径                  | "
   ],
   "id": "e3d3ca90dd548dff"
  },
  {
   "metadata": {
    "ExecuteTime": {
     "end_time": "2024-05-11T04:48:38.880710Z",
     "start_time": "2024-05-11T04:48:38.868614Z"
    }
   },
   "cell_type": "code",
   "source": [
    "train = True\n",
    "pre_trained = True\n",
    "save_model = False\n",
    "save = False\n",
    "\n",
    "data_dir = TRAIN_DATA_DIR\n",
    "load_dir = LOAD_DIR\n",
    "result_dir = RESULT_DIR\n",
    "model_save_dir = None\n",
    "\n",
    "torch_float = torch.float32"
   ],
   "id": "55c58a5b7a79bd4c",
   "outputs": [],
   "execution_count": 4
  },
  {
   "metadata": {},
   "cell_type": "markdown",
   "source": "· 加载模型",
   "id": "bead023769d4e0df"
  },
  {
   "metadata": {
    "ExecuteTime": {
     "end_time": "2024-05-11T04:49:08.040686Z",
     "start_time": "2024-05-11T04:49:03.410504Z"
    }
   },
   "cell_type": "code",
   "source": [
    "model = Model(10)\n",
    "if pre_trained:\n",
    "    try:\n",
    "        checkpoint = get_checkpoint(load_dir).get()\n",
    "        print(f\"Loading checkpoint: {model.load(checkpoint)}\")\n",
    "    except:\n",
    "        print(f\"No checkpoint found at {load_dir}\")\n",
    "\n",
    "loader = DataLoader(data_dir, train=train)\n",
    "data_sum = loader.__len__()\n",
    "epoch = 1"
   ],
   "id": "1d87a741c39d34e0",
   "outputs": [
    {
     "name": "stdout",
     "output_type": "stream",
     "text": [
      "Loading checkpoint: True\n"
     ]
    }
   ],
   "execution_count": 8
  },
  {
   "metadata": {},
   "cell_type": "markdown",
   "source": "· 模型训练 & 推理",
   "id": "3ba340e67ae23281"
  },
  {
   "metadata": {
    "ExecuteTime": {
     "end_time": "2024-05-11T04:48:47.201908Z",
     "start_time": "2024-05-11T04:48:43.336024Z"
    }
   },
   "cell_type": "code",
   "source": [
    "' 设置数据数量 '\n",
    "data_sum = int(input(' 设置数据数量 '))\n",
    "data_sum = min(loader.__len__(), data_sum)\n",
    "' 设置epoch '\n",
    "epoch = int(input(' 设置epoch '))"
   ],
   "id": "31c28d6c76b9d856",
   "outputs": [
    {
     "ename": "ValueError",
     "evalue": "invalid literal for int() with base 10: ''",
     "output_type": "error",
     "traceback": [
      "\u001B[1;31m---------------------------------------------------------------------------\u001B[0m",
      "\u001B[1;31mValueError\u001B[0m                                Traceback (most recent call last)",
      "Cell \u001B[1;32mIn[6], line 2\u001B[0m\n\u001B[0;32m      1\u001B[0m \u001B[38;5;124m'\u001B[39m\u001B[38;5;124m 设置数据数量 \u001B[39m\u001B[38;5;124m'\u001B[39m\n\u001B[1;32m----> 2\u001B[0m data_sum \u001B[38;5;241m=\u001B[39m \u001B[38;5;28;43mint\u001B[39;49m\u001B[43m(\u001B[49m\u001B[38;5;28;43minput\u001B[39;49m\u001B[43m(\u001B[49m\u001B[38;5;124;43m'\u001B[39;49m\u001B[38;5;124;43m 设置数据数量 \u001B[39;49m\u001B[38;5;124;43m'\u001B[39;49m\u001B[43m)\u001B[49m\u001B[43m)\u001B[49m\n\u001B[0;32m      3\u001B[0m data_sum \u001B[38;5;241m=\u001B[39m \u001B[38;5;28mmin\u001B[39m(loader\u001B[38;5;241m.\u001B[39m\u001B[38;5;21m__len__\u001B[39m(), data_sum)\n\u001B[0;32m      4\u001B[0m \u001B[38;5;124m'\u001B[39m\u001B[38;5;124m 设置epoch \u001B[39m\u001B[38;5;124m'\u001B[39m\n",
      "\u001B[1;31mValueError\u001B[0m: invalid literal for int() with base 10: ''"
     ]
    }
   ],
   "execution_count": 6
  },
  {
   "metadata": {
    "ExecuteTime": {
     "end_time": "2024-05-11T05:06:19.047965Z",
     "start_time": "2024-05-11T04:50:03.575162Z"
    }
   },
   "cell_type": "code",
   "source": [
    "pred = []\n",
    "# 推理下没有label\n",
    "if train:\n",
    "    labels = []\n",
    "\n",
    "if train:\n",
    "    right = 0\n",
    "    for _ in range(epoch):\n",
    "        print(f'Epoch: {_ + 1}')\n",
    "        for i in tqdm(range(data_sum)):\n",
    "            data = loader.get_data()[0]\n",
    "            labels.append(data[0])\n",
    "            inputs = torch.tensor(data[1]).unsqueeze(0).to(torch_float)\n",
    "    \n",
    "            output = model(inputs)\n",
    "            _, class_idx = torch.max(output, 1)\n",
    "            pred.append(class_idx)\n",
    "            \n",
    "            if class_idx == labels:\n",
    "                right += 1\n",
    "        print(f\"\\n\\tRight: {right}\\t Wrong: {data_sum - right}\\n\\tAccuracy: {right / data_sum * 100:.2f}%\\n\")\n",
    "        # model save\n",
    "        if save_model:\n",
    "            try:\n",
    "                print(f'Model Saved: {model.save(model_save_dir)}')\n",
    "            except:\n",
    "                print(f'No file found at: {model_save_dir}')\n",
    "    print(\"Train Finished!\")\n",
    "    \n",
    "else:\n",
    "    for _ in range(epoch):\n",
    "        print(f'Epoch: {_ + 1}')\n",
    "        for i in tqdm(range(data_sum)):\n",
    "            data = loader.get_data()[0]\n",
    "            inputs = torch.tensor(data[0]).unsqueeze(0).to(torch.float)\n",
    "            output = model(inputs)\n",
    "            pred.append(output)\n",
    "    print(\"Reference Finished!\")\n"
   ],
   "id": "cba7e211dcbeb52a",
   "outputs": [
    {
     "name": "stdout",
     "output_type": "stream",
     "text": [
      "Epoch: 1\n"
     ]
    },
    {
     "name": "stderr",
     "output_type": "stream",
     "text": [
      "100%|██████████| 42000/42000 [16:15<00:00, 43.06it/s]   "
     ]
    },
    {
     "name": "stdout",
     "output_type": "stream",
     "text": [
      "\n",
      "\tRight: 0\t Wrong: 42000\n",
      "\tAccuracy: 0.00%\n",
      "\n",
      "Train Finished!\n"
     ]
    },
    {
     "name": "stderr",
     "output_type": "stream",
     "text": [
      "\n"
     ]
    }
   ],
   "execution_count": 14
  },
  {
   "metadata": {},
   "cell_type": "markdown",
   "source": "· 保存结果",
   "id": "b5267979e493e88f"
  },
  {
   "metadata": {},
   "cell_type": "code",
   "source": [
    "if save:\n",
    "    try:\n",
    "        train_res = [['true label', 'predicted label']]\n",
    "        for i in range(len(pred)):\n",
    "            train_res.append([labels[i], int(pred[i])])\n",
    "    \n",
    "        with open(RESULT_DIR, 'w') as f:\n",
    "            writer = csv.writer(f)\n",
    "            writer.writerows(train_res)\n",
    "            \n",
    "        print(f\"Train Results Saved Successfully!\")\n",
    "    except:\n",
    "        print(f\"No file found at: {RESULT_DIR}\")"
   ],
   "id": "2a43a471b5bf8c69",
   "outputs": [],
   "execution_count": null
  },
  {
   "metadata": {},
   "cell_type": "markdown",
   "source": "· 模型评估",
   "id": "870e2151f44993d4"
  },
  {
   "metadata": {
    "ExecuteTime": {
     "end_time": "2024-05-11T04:48:47.207582Z",
     "start_time": "2024-05-11T04:48:47.207199Z"
    }
   },
   "cell_type": "code",
   "source": [
    "if len(pred) + len(labels):\n",
    "    eval = Evaluate(pred, labels, [i + 1 for i in range(10)])\n",
    "    eval.get_map()\n",
    "    print(f\"Accuracy: {eval.get_accuracy()}\")\n",
    "    print(f\"Precision: {eval.get_precision()}\")\n",
    "    print(f\"Recall: {eval.get_recall()}\")\n",
    "    print(f\"F1 score: {eval.get_f1()}\")\n",
    "else:\n",
    "    print(\"No Prediction Found!\")"
   ],
   "id": "3dfbf0ce886b44b5",
   "outputs": [],
   "execution_count": null
  },
  {
   "metadata": {},
   "cell_type": "markdown",
   "source": "### 其他模型",
   "id": "ec7a5567470606"
  },
  {
   "metadata": {},
   "cell_type": "markdown",
   "source": "· 加载数据",
   "id": "77e8e38f237973e"
  },
  {
   "metadata": {},
   "cell_type": "code",
   "source": [
    "from sklearn.model_selection import train_test_split\n",
    "# load data\n",
    "data = []\n",
    "labels = []\n",
    "with open(TRAIN_DATA_DIR, \"r\") as f:\n",
    "    reader = csv.reader(f)\n",
    "    next(reader)\n",
    "\n",
    "    for row in reader:\n",
    "        label = int(row[0])\n",
    "        img = [int(i) for i in row[1:]]\n",
    "        data.append(img)\n",
    "        labels.append(label)\n",
    "X_train, X_test, y_train, y_test = train_test_split(data, labels, test_size=0.2, random_state=42)"
   ],
   "id": "ec6f8e8fb34448fe",
   "outputs": [],
   "execution_count": null
  },
  {
   "metadata": {},
   "cell_type": "markdown",
   "source": "· SVM尝试",
   "id": "c32f8d5ff823d47a"
  },
  {
   "metadata": {},
   "cell_type": "code",
   "source": [
    "from other_models.SVM import SVM, findBestComponents\n",
    "\n",
    "# find best model\n",
    "findBestComponents(X_train, X_test, y_train, y_test)\n"
   ],
   "id": "921589a4f3f0f794",
   "outputs": [],
   "execution_count": null
  },
  {
   "metadata": {},
   "cell_type": "markdown",
   "source": "· 决策树尝试",
   "id": "3ab0f2653bdc28f1"
  },
  {
   "metadata": {
    "ExecuteTime": {
     "end_time": "2024-05-11T05:06:19.550317Z",
     "start_time": "2024-05-11T05:06:19.061005Z"
    }
   },
   "cell_type": "code",
   "source": [
    "from other_models.DecisionTree import DicisionTree, getBestDepth\n",
    "\n",
    "getBestDepth(X_train, X_test, y_train, y_test)"
   ],
   "id": "d9b06bbb87b528e8",
   "outputs": [
    {
     "ename": "NameError",
     "evalue": "name 'X_train' is not defined",
     "output_type": "error",
     "traceback": [
      "\u001B[1;31m---------------------------------------------------------------------------\u001B[0m",
      "\u001B[1;31mNameError\u001B[0m                                 Traceback (most recent call last)",
      "Cell \u001B[1;32mIn[15], line 3\u001B[0m\n\u001B[0;32m      1\u001B[0m \u001B[38;5;28;01mfrom\u001B[39;00m \u001B[38;5;21;01mother_models\u001B[39;00m\u001B[38;5;21;01m.\u001B[39;00m\u001B[38;5;21;01mDecisionTree\u001B[39;00m \u001B[38;5;28;01mimport\u001B[39;00m DicisionTree, getBestDepth\n\u001B[1;32m----> 3\u001B[0m getBestDepth(\u001B[43mX_train\u001B[49m, X_test, y_train, y_test)\n",
      "\u001B[1;31mNameError\u001B[0m: name 'X_train' is not defined"
     ]
    }
   ],
   "execution_count": 15
  },
  {
   "metadata": {},
   "cell_type": "code",
   "outputs": [],
   "execution_count": null,
   "source": "",
   "id": "3fae5bcfd8dec60b"
  }
 ],
 "metadata": {
  "kernelspec": {
   "display_name": "Python 3",
   "language": "python",
   "name": "python3"
  },
  "language_info": {
   "codemirror_mode": {
    "name": "ipython",
    "version": 2
   },
   "file_extension": ".py",
   "mimetype": "text/x-python",
   "name": "python",
   "nbconvert_exporter": "python",
   "pygments_lexer": "ipython2",
   "version": "2.7.6"
  }
 },
 "nbformat": 4,
 "nbformat_minor": 5
}
